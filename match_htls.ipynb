{
  "nbformat": 4,
  "nbformat_minor": 0,
  "metadata": {
    "colab": {
      "provenance": [],
      "gpuType": "T4"
    },
    "kernelspec": {
      "name": "python3",
      "display_name": "Python 3"
    },
    "language_info": {
      "name": "python"
    },
    "accelerator": "GPU"
  },
  "cells": [
    {
      "cell_type": "code",
      "source": [
        "!pip install fuzzywuzzy\n",
        "!pip install python-Levenshtein"
      ],
      "metadata": {
        "id": "T1LIz0X6x2Q6"
      },
      "execution_count": null,
      "outputs": []
    },
    {
      "cell_type": "code",
      "source": [
        "import pandas as pd\n",
        "from fuzzywuzzy import fuzz\n",
        "from fuzzywuzzy import process\n",
        "\n",
        "# Carregar os dados\n",
        "base_1 = pd.read_csv('base-1.csv', delimiter=';', encoding='latin1')\n",
        "base_2 = pd.read_csv('base-2.csv', delimiter=';', encoding='latin1')\n",
        "\n",
        "# Definir uma função para encontrar correspondências\n",
        "def find_non_matching_hotels(base_1, base_2, threshold=80):\n",
        "    non_matching_hotels = []\n",
        "\n",
        "    for hotel in base_omb['hotel_1']:\n",
        "        # Encontrar a melhor correspondência na base_desp\n",
        "        match = process.extractOne(hotel, base_desp['hotel_2'], scorer=fuzz.token_sort_ratio)\n",
        "\n",
        "        # Verificar se a correspondência está abaixo do limite\n",
        "        if match[1] < threshold:\n",
        "            non_matching_hotels.append(hotel)\n",
        "\n",
        "    return non_matching_hotels\n",
        "\n",
        "# Encontrar os hotéis sem correspondência\n",
        "non_matching_hotels = find_non_matching_hotels(base_omb, base_desp)\n",
        "\n",
        "# Criar um dataframe com os resultados\n",
        "result_df = pd.DataFrame(non_matching_hotels, columns=['hotel_1'])\n",
        "\n",
        "# Contagem de hotéis não correspondidos\n",
        "hotel_count = len(result_df)\n",
        "\n",
        "# Exibir os resultados\n",
        "print(result_df)\n",
        "print(f\"Total de hotéis não correspondidos: {hotel_count}\")\n"
      ],
      "metadata": {
        "id": "cg04QJzI-mid"
      },
      "execution_count": null,
      "outputs": []
    },
    {
      "cell_type": "code",
      "source": [
        "from google.colab import files\n",
        "\n",
        "# Salvar o resultado em um arquivo CSV\n",
        "result_df.to_csv('non_matching_hotels.csv', index=False, sep=';', encoding='latin1')\n",
        "\n",
        "print(\"Arquivo CSV 'non_matching_hotels.csv' salvo com sucesso.\")\n",
        "\n",
        "# Baixar o arquivo para a máquina local\n",
        "files.download('non_matching_hotels.csv')\n"
      ],
      "metadata": {
        "id": "39VRBu6Q3O0C"
      },
      "execution_count": null,
      "outputs": []
    }
  ]
}